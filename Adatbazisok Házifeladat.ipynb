{
    "metadata": {
        "kernelspec": {
            "name": "SQL",
            "display_name": "SQL",
            "language": "sql"
        },
        "language_info": {
            "name": "sql",
            "version": ""
        }
    },
    "nbformat_minor": 2,
    "nbformat": 4,
    "cells": [
        {
            "cell_type": "markdown",
            "source": [
                "1. Legnagyobb, legkissebb és az átlagos listaár bemutatása"
            ],
            "metadata": {
                "azdata_cell_guid": "d915932b-9d37-406f-b14f-9fa9966e06c2"
            },
            "attachments": {}
        },
        {
            "cell_type": "code",
            "source": [
                "Select MAX(LISTAAR) AS \"Max_Listaar\",\r\n",
                "        MIN(LISTAAR) AS \"Min_Listaar\",\r\n",
                "        AVG(LISTAAR) AS \"Atlag_Listaar\"\r\n",
                "FROM Termek"
            ],
            "metadata": {
                "azdata_cell_guid": "05c045b8-19a8-4473-81a8-25906a594e57",
                "language": "sql"
            },
            "outputs": [
                {
                    "output_type": "display_data",
                    "data": {
                        "text/html": "(1 row affected)"
                    },
                    "metadata": {}
                },
                {
                    "output_type": "display_data",
                    "data": {
                        "text/html": "Total execution time: 00:00:00.007"
                    },
                    "metadata": {}
                },
                {
                    "output_type": "execute_result",
                    "execution_count": 1,
                    "data": {
                        "application/vnd.dataresource+json": {
                            "schema": {
                                "fields": [
                                    {
                                        "name": "Max_Listaar"
                                    },
                                    {
                                        "name": "Min_Listaar"
                                    },
                                    {
                                        "name": "Atlag_Listaar"
                                    }
                                ]
                            },
                            "data": [
                                {
                                    "Max_Listaar": "46000",
                                    "Min_Listaar": "0",
                                    "Atlag_Listaar": "786,2813067150635"
                                }
                            ]
                        },
                        "text/html": "<table><tr><th>Max_Listaar</th><th>Min_Listaar</th><th>Atlag_Listaar</th></tr><tr><td>46000</td><td>0</td><td>786,2813067150635</td></tr></table>"
                    },
                    "metadata": {}
                }
            ],
            "execution_count": 1
        },
        {
            "cell_type": "markdown",
            "source": [
                "2\\. Legtöbb terméket felvivő neve"
            ],
            "metadata": {
                "language": "sql",
                "azdata_cell_guid": "ff289031-e75b-4453-bb97-6a36b7c8a1c3"
            },
            "attachments": {}
        },
        {
            "cell_type": "code",
            "source": [
                "Select TOP 1 FELVITTE AS \"Legtobb_Termeket_Felvitte\"\r\n",
                "From Termek\r\n",
                "Group By FELVITTE\r\n",
                "ORDER BY COUNT(*) DESC"
            ],
            "metadata": {
                "language": "sql",
                "azdata_cell_guid": "593cad0c-b728-4d9c-98df-9e2e65bf7b67",
                "tags": []
            },
            "outputs": [
                {
                    "output_type": "display_data",
                    "data": {
                        "text/html": "(1 row affected)"
                    },
                    "metadata": {}
                },
                {
                    "output_type": "display_data",
                    "data": {
                        "text/html": "Total execution time: 00:00:00.007"
                    },
                    "metadata": {}
                },
                {
                    "output_type": "execute_result",
                    "metadata": {},
                    "execution_count": 1,
                    "data": {
                        "application/vnd.dataresource+json": {
                            "schema": {
                                "fields": [
                                    {
                                        "name": "Legtobb_Termeket_Felvitte"
                                    }
                                ]
                            },
                            "data": [
                                {
                                    "Legtobb_Termeket_Felvitte": "Béla"
                                }
                            ]
                        },
                        "text/html": [
                            "<table>",
                            "<tr><th>Legtobb_Termeket_Felvitte</th></tr>",
                            "<tr><td>Béla</td></tr>",
                            "</table>"
                        ]
                    }
                }
            ],
            "execution_count": 1
        },
        {
            "cell_type": "markdown",
            "source": [
                "3\\. Legrövidebb, leghosszabb nevű termék és a termékek nevének átlagos hossza."
            ],
            "metadata": {
                "language": "sql",
                "azdata_cell_guid": "a87fb237-4b4c-496f-9575-37ae85e974e8"
            },
            "attachments": {}
        },
        {
            "cell_type": "code",
            "source": [
                "Select MIN(LEN(MEGNEVEZES)) AS Legrovidebb_Nevu_Termek,\r\n",
                "        MAX(LEN(MEGNEVEZES)) AS Leghosszabb_Nevu_Termek,\r\n",
                "        AVG(LEN(MEGNEVEZES)) AS Atlagos_Hosszusagu_Termek_Nev\r\n",
                "\r\n",
                "From Termek "
            ],
            "metadata": {
                "language": "sql",
                "azdata_cell_guid": "95047720-3f45-4b71-8bec-d23adbf5e9fa"
            },
            "outputs": [
                {
                    "output_type": "display_data",
                    "data": {
                        "text/html": "(1 row affected)"
                    },
                    "metadata": {}
                },
                {
                    "output_type": "display_data",
                    "data": {
                        "text/html": "Total execution time: 00:00:00.012"
                    },
                    "metadata": {}
                },
                {
                    "output_type": "execute_result",
                    "metadata": {},
                    "execution_count": 2,
                    "data": {
                        "application/vnd.dataresource+json": {
                            "schema": {
                                "fields": [
                                    {
                                        "name": "Legrovidebb_Nevu_Termek"
                                    },
                                    {
                                        "name": "Leghosszabb_Nevu_Termek"
                                    },
                                    {
                                        "name": "Atlagos_Hosszusagu_Termek_Nev"
                                    }
                                ]
                            },
                            "data": [
                                {
                                    "Legrovidebb_Nevu_Termek": "3",
                                    "Leghosszabb_Nevu_Termek": "40",
                                    "Atlagos_Hosszusagu_Termek_Nev": "18"
                                }
                            ]
                        },
                        "text/html": [
                            "<table>",
                            "<tr><th>Legrovidebb_Nevu_Termek</th><th>Leghosszabb_Nevu_Termek</th><th>Atlagos_Hosszusagu_Termek_Nev</th></tr>",
                            "<tr><td>3</td><td>40</td><td>18</td></tr>",
                            "</table>"
                        ]
                    }
                }
            ],
            "execution_count": 2
        },
        {
            "cell_type": "markdown",
            "source": [
                "4\\. Hány termékhez tartozik leírás, ez az összes terméknek hány százaléka"
            ],
            "metadata": {
                "language": "sql",
                "azdata_cell_guid": "67a283b0-748c-4aac-8c12-deb6e064e19c"
            },
            "attachments": {}
        },
        {
            "cell_type": "code",
            "source": [
                "Select  COUNT(LEIRAS) AS Leiras_Tartozik_A_Termekhez,\r\n",
                "        Round((COUNT(LEIRAS) * 100.0 / COUNT(*)),2) AS Hany_Szazalekhoz_Tartozik_Leiras\r\n",
                "\r\n",
                "From Termek"
            ],
            "metadata": {
                "language": "sql",
                "azdata_cell_guid": "6dcf845b-aa35-4128-ab54-3ce297204630"
            },
            "outputs": [
                {
                    "output_type": "display_data",
                    "data": {
                        "text/html": "Warning: Null value is eliminated by an aggregate or other SET operation."
                    },
                    "metadata": {}
                },
                {
                    "output_type": "display_data",
                    "data": {
                        "text/html": "(1 row affected)"
                    },
                    "metadata": {}
                },
                {
                    "output_type": "display_data",
                    "data": {
                        "text/html": "Total execution time: 00:00:00.021"
                    },
                    "metadata": {}
                },
                {
                    "output_type": "execute_result",
                    "metadata": {},
                    "execution_count": 3,
                    "data": {
                        "application/vnd.dataresource+json": {
                            "schema": {
                                "fields": [
                                    {
                                        "name": "Leiras_Tartozik_A_Termekhez"
                                    },
                                    {
                                        "name": "Hany_Szazalekhoz_Tartozik_Leiras"
                                    }
                                ]
                            },
                            "data": [
                                {
                                    "Leiras_Tartozik_A_Termekhez": "24",
                                    "Hany_Szazalekhoz_Tartozik_Leiras": "4.360000000000"
                                }
                            ]
                        },
                        "text/html": [
                            "<table>",
                            "<tr><th>Leiras_Tartozik_A_Termekhez</th><th>Hany_Szazalekhoz_Tartozik_Leiras</th></tr>",
                            "<tr><td>24</td><td>4.360000000000</td></tr>",
                            "</table>"
                        ]
                    }
                }
            ],
            "execution_count": 3
        },
        {
            "cell_type": "markdown",
            "source": [
                "5\\. Melyik termékekhez tartozik a legkissebb és a legnagyobb készlet és mekkora ez a készlet."
            ],
            "metadata": {
                "language": "sql",
                "azdata_cell_guid": "e6ee25d7-d483-406c-80e9-385bcd5f87f6"
            },
            "attachments": {}
        },
        {
            "cell_type": "code",
            "source": [
                "Select MEGNEVEZES As \"Termek_Nev\", \r\n",
                "        KESZLET As \"Keszlet\"\r\n",
                "From Termek\r\n",
                "Where KESZLET = (Select MAX(KESZLET) From Termek) OR\r\n",
                "        KESZLET = (Select MIN(KESZLET) From Termek)\r\n",
                "Order By KESZLET"
            ],
            "metadata": {
                "language": "sql",
                "azdata_cell_guid": "164173f2-fa94-4cb0-9ae6-55249058531c"
            },
            "outputs": [
                {
                    "output_type": "display_data",
                    "data": {
                        "text/html": "(4 rows affected)"
                    },
                    "metadata": {}
                },
                {
                    "output_type": "display_data",
                    "data": {
                        "text/html": "Total execution time: 00:00:00.009"
                    },
                    "metadata": {}
                },
                {
                    "output_type": "execute_result",
                    "metadata": {},
                    "execution_count": 4,
                    "data": {
                        "application/vnd.dataresource+json": {
                            "schema": {
                                "fields": [
                                    {
                                        "name": "Termek_Nev"
                                    },
                                    {
                                        "name": "Keszlet"
                                    }
                                ]
                            },
                            "data": [
                                {
                                    "Termek_Nev": "Rovatolt papír 20 íves",
                                    "Keszlet": "0"
                                },
                                {
                                    "Termek_Nev": "Leckefüzet",
                                    "Keszlet": "0"
                                },
                                {
                                    "Termek_Nev": "Ajándék cs. tasak kicsi",
                                    "Keszlet": "50000"
                                },
                                {
                                    "Termek_Nev": "Golyóstoll levélbontós",
                                    "Keszlet": "50000"
                                }
                            ]
                        },
                        "text/html": [
                            "<table>",
                            "<tr><th>Termek_Nev</th><th>Keszlet</th></tr>",
                            "<tr><td>Rovatolt papír 20 íves</td><td>0</td></tr>",
                            "<tr><td>Leckefüzet</td><td>0</td></tr>",
                            "<tr><td>Ajándék cs. tasak kicsi</td><td>50000</td></tr>",
                            "<tr><td>Golyóstoll levélbontós</td><td>50000</td></tr>",
                            "</table>"
                        ]
                    }
                }
            ],
            "execution_count": 4
        }
    ]
}